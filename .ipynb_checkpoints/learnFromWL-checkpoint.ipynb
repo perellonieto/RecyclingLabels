{
 "cells": [
  {
   "cell_type": "markdown",
   "metadata": {
    "slideshow": {
     "slide_type": "slide"
    }
   },
   "source": [
    "\n",
    "# A point analysis of weak learning models\n",
    "\n",
    "    Notebook version: 1.2 (May 29, 2017)\n",
    "\n",
    "    Author: Jesús Cid Sueiro (jcid@tsc.uc3m.es)               "
   ]
  },
  {
   "cell_type": "markdown",
   "metadata": {
    "slideshow": {
     "slide_type": "notes"
    }
   },
   "source": [
    "    Changes: v.1.0 - First version"
   ]
  },
  {
   "cell_type": "code",
   "execution_count": 1,
   "metadata": {
    "collapsed": true,
    "slideshow": {
     "slide_type": "slide"
    }
   },
   "outputs": [],
   "source": [
    "# To visualize plots in the notebook\n",
    "%matplotlib inline \n",
    "\n",
    "# Import some libraries that will be necessary for working with data and displaying plots\n",
    "import matplotlib.pyplot as plt\n",
    "import numpy as np\n",
    "from scipy import spatial\n",
    "\n",
    "# Local imports\n",
    "import wlc.WLweakener as wlw"
   ]
  },
  {
   "cell_type": "markdown",
   "metadata": {
    "slideshow": {
     "slide_type": "slide"
    }
   },
   "source": [
    "\n",
    "## 1. Introduction.\n",
    "\n",
    "In this notebook we analyze the behavior of sample based estimates of a $C$-dimensional probability vector $\\boldsymbol{\\eta}$ from binary vector instances.\n",
    "\n",
    "The main goal is to compare the behavior of a \"supervised\" estimate, based on a set of labels $\\{{\\bf y}_k, k=0,\\ldots, K-1\\}$ generated from $\\boldsymbol{\\eta}$, and estimates based on weak labels, $\\{{\\bf b}_k, k=0,\\ldots, K-1\\}$, generated from some related distribution ${\\bf q} = {\\bf M}\\boldsymbol{\\eta}$, where ${\\bf M}$ is called a mixing matrix and contains conditional probabilities.\n",
    "\n",
    "To do so, we will generate a dataset of labels drawn from $\\boldsymbol{\\eta}$, and one or more datasets of weak labels drawn from ${\\bf q}$.\n",
    "\n",
    "First we define some configurable parameters:"
   ]
  },
  {
   "cell_type": "code",
   "execution_count": null,
   "metadata": {
    "collapsed": true
   },
   "outputs": [],
   "source": [
    "# CONFIGURABLE PARAMETERS FOR THIS SECTION\n",
    "C = 3                             # Number of classes\n",
    "K = 10000                         # Sample size\n",
    "eta = np.array([0.5, 0.2, 0.3])   # True probability vector\n",
    "\n",
    "# Weak Label model. \n",
    "# This is the model used to generate the data.\n",
    "# Available options are: quasi_IPL, noisy, random_noise ...\n",
    "wl_model = 'quasi_IPL'  #  'random_noise'   # 'noisy', 'quasi_IPL'\n",
    "\n",
    "# Parameters of the weak label model\n",
    "beta = 0.8\n",
    "\n",
    "# Virtual label model\n",
    "# This it the model used to estimate the probability vector\n",
    "# Available options are: quasi_IPL, noisy, Mproper, ...\n",
    "vl_model = 'Mproper'"
   ]
  },
  {
   "cell_type": "markdown",
   "metadata": {},
   "source": [
    "### 1.1. Mixing Matrix.\n",
    "\n",
    "Based on the selected weak label model, we generate and visualize the corresponding mixing matrix."
   ]
  },
  {
   "cell_type": "code",
   "execution_count": null,
   "metadata": {
    "collapsed": false
   },
   "outputs": [],
   "source": [
    "# Mixing matrix\n",
    "M = wlw.computeM(C, beta=beta, method=wl_model)\n",
    "\n",
    "if wl_model == 'quasi_IPL':\n",
    "    dec_labels = np.arange(0, 2**C)\n",
    "elif wl_model in ['noisy', 'random_noise']:\n",
    "    dec_labels = 2**np.arange(C-1, -1, -1)\n",
    "else:\n",
    "    raise ValueError(\"dec_labels not implemented for the given wl_model\")\n",
    "\n",
    "# Remove zero rows\n",
    "flag = np.nonzero(np.sum(M, axis=1))[0]\n",
    "M = M[flag, :]                 # This is to remove zero rows, which are not relevant\n",
    "dec_labels = dec_labels[flag]  # This is to remove zero rows, which are not relevant\n",
    "\n",
    "# Show:\n",
    "print(\"Mixing matrix:\")\n",
    "print(M)\n",
    "print(\"Corresponding to weak label indices {0}\".format(dec_labels))\n",
    "\n",
    "plt.imshow(M, interpolation='nearest', cmap=\"gray\", clim=(0.0, 1.0)) \n",
    "plt.colorbar()\n",
    "plt.title('Mixing Matrix')\n",
    "plt.xlabel('True label')\n",
    "plt.ylabel('Weak label')\n",
    "plt.xticks([], [])\n",
    "plt.yticks([], [])\n",
    "plt.show()"
   ]
  },
  {
   "cell_type": "markdown",
   "metadata": {},
   "source": [
    "### 1.2. Dataset generation.\n",
    "\n",
    "In the following we will generate a dataset of labels and their corresponding weak labels"
   ]
  },
  {
   "cell_type": "code",
   "execution_count": null,
   "metadata": {
    "collapsed": false
   },
   "outputs": [],
   "source": [
    "# Generate true labels\n",
    "I = np.eye(C)\n",
    "iy = np.random.choice(np.arange(0, C), size=K, p=eta)\n",
    "y = I[iy]\n",
    "\n",
    "# Generate weak label indices\n",
    "z = wlw.generateWeak(iy, M, dec_labels)\n",
    "print z"
   ]
  },
  {
   "cell_type": "markdown",
   "metadata": {},
   "source": [
    "### 1.3. Supervised, sample based estimation.\n",
    "\n",
    "In the supervised setting, ${\\bf y}$ is observed an the optimal sample based estimate of $\\boldsymbol{\\eta}$ (minimizing any Bregman divergence) based on the observed labels is the sample average"
   ]
  },
  {
   "cell_type": "code",
   "execution_count": null,
   "metadata": {
    "collapsed": false
   },
   "outputs": [],
   "source": [
    "f = np.mean(y, axis=0)\n",
    "print \"Supervised estimate: {0}\".format(f)\n",
    "e2 = np.sum((f - eta)**2)\n",
    "print \"Square error: {0}\".format(e2)"
   ]
  },
  {
   "cell_type": "markdown",
   "metadata": {},
   "source": [
    "### 1.4. Learning from weak labels.\n",
    "\n",
    "There are many ways to estimate $\\boldsymbol{\\eta}$ from the weak labels. We consider here a representative sample of them:"
   ]
  },
  {
   "cell_type": "markdown",
   "metadata": {},
   "source": [
    "#### 1.4.1. Averaging virtual labels\n",
    "\n",
    "If ${\\bf z}$ is a sample from distribution ${\\bf q}$, and ${\\bf V}$ is any left inverse of the mixing matrix (so that ${\\bf V}{\\bf M} = {\\bf I}$ then it can be shown that $\\mathbb{E}\\{{\\bf v}\\} = \\boldsymbol{\\eta}$. Therefore, we can estimate $\\boldsymbol{\\eta}$ as the average of virtual labels:"
   ]
  },
  {
   "cell_type": "code",
   "execution_count": null,
   "metadata": {
    "collapsed": false
   },
   "outputs": [],
   "source": [
    "v = wlw.computeVirtual(z, C, method=vl_model, M=M, dec_labels=dec_labels)\n",
    "\n",
    "print \"Virtual labels are:\"\n",
    "print v\n",
    "f_v = np.mean(v, axis=0)\n",
    "\n",
    "print \"Virtual label estimate: {0}\".format(f_v)\n",
    "e2 = np.sum((f_v - eta)**2)\n",
    "print \"Square error: {0}\".format(e2)"
   ]
  },
  {
   "cell_type": "markdown",
   "metadata": {},
   "source": [
    "The choice of ${\\bf V}$ is relevant. Different left inverses of the mixing matrix may have better behavior under finite samples."
   ]
  },
  {
   "cell_type": "markdown",
   "metadata": {},
   "source": [
    "#### 1.4.2. Maximum Likelihood Estimate\n",
    "\n",
    "The expected value of a virtual label vector can be shown to be equal to the minimizer of the expected log likelihood. This implies that, on average, the average of the virtual label vector and the ML estimate should be assymptotically equivalent. However, for a finite sample size, they can also lead to different results.\n",
    "\n",
    "The following function computes the ML estimate by means of the EM algorithm."
   ]
  },
  {
   "cell_type": "code",
   "execution_count": null,
   "metadata": {
    "collapsed": true
   },
   "outputs": [],
   "source": [
    "def computeML(iz, M, f0=None, max_iter=1e10, echo='off'):\n",
    "    \"\"\"\n",
    "    Compute the ML estimate of a probability vector based on weak labels in iz and the mixing matrix M.\n",
    "    The estimation method is based on Expectation Maximization.\n",
    "    \n",
    "    Args:\n",
    "        iz       :Observed weak labels\n",
    "        M        :Mixing matrix\n",
    "        f0       :Initial value of the ML estimate.\n",
    "        max_iter :Maximum number of iterations.\n",
    "        echo     :If 'on', output messages are shown\n",
    "\n",
    "    Returns:\n",
    "        f_ml     :Maximum likelihood estimate\n",
    "    \"\"\"\n",
    "\n",
    "    # Initialize the estimate.\n",
    "    if f0 is None:\n",
    "        C = M.shape[1]   # No. of classes\n",
    "        f_ml = np.ones(C)/C\n",
    "    else:\n",
    "        f_ml = f0\n",
    "\n",
    "    # Recursive estimation\n",
    "    iterate = True\n",
    "    count = 0\n",
    "    while iterate:\n",
    "        fi = np.dot(np.diag(f_ml), M.T)[:,iz.astype(int)]\n",
    "        fi = fi / np.sum(fi, axis=0)\n",
    "        f_new = np.mean(fi, axis=1)\n",
    "        count += 1\n",
    "        iterate = np.any(f_new != f_ml) and count < max_iter\n",
    "        f_ml = np.copy(f_new)\n",
    "    \n",
    "    if echo=='on':\n",
    "        if count>= max_iter:\n",
    "            print(\"Stopped before convergence after {0} iterations\".format(max_iter))\n",
    "        else:\n",
    "            print(\"Converged in {0} iterations\".format(count))\n",
    "\n",
    "    return f_ml\n",
    "\n",
    "def computeNLL(iz, M, f):\n",
    "    \"\"\"\n",
    "    Compute the Log-Likelihood function for an estimate f.\n",
    "    \"\"\"\n",
    "    \n",
    "    I = np.eye(M.shape[0])\n",
    "    z = I[iz.astype(int)]\n",
    "    NLL = - np.dot(np.mean(z, axis=0), np.log(np.dot(M, f)))\n",
    "\n",
    "    return NLL"
   ]
  },
  {
   "cell_type": "markdown",
   "metadata": {},
   "source": [
    "We can verify that the EM steps monotonically decrease the NLL"
   ]
  },
  {
   "cell_type": "code",
   "execution_count": null,
   "metadata": {
    "collapsed": false,
    "scrolled": false
   },
   "outputs": [],
   "source": [
    "n_it = 10000\n",
    "\n",
    "I = np.eye(M.shape[0])\n",
    "\n",
    "# Compute inverted index \n",
    "z2i = dict(zip(dec_labels, range(len(dec_labels))))\n",
    "\n",
    "# Transform (decimal) weak labels into their corresponding indices in dec_labels.\n",
    "iz = np.array([z2i[zi] for zi in z])\n",
    "\n",
    "# Compute weak label proportions\n",
    "B = I[iz]\n",
    "q = np.mean(B, axis=0)\n",
    "\n",
    "# Compute ML estimate based on iz and M\n",
    "f_lim = computeML(iz, M, f, max_iter=10000, echo='on')\n",
    "\n",
    "f = None\n",
    "NLL = []\n",
    "MSE = []\n",
    "KL = []\n",
    "MSE_EM = []\n",
    "for i in range(n_it):\n",
    "    \n",
    "    f_new = computeML(iz, M, f, max_iter=1)\n",
    "    \n",
    "    if f is not None and np.all(f_new == f):\n",
    "        break\n",
    "    else:\n",
    "        f = np.copy(f_new)\n",
    "\n",
    "    # NLL.append(computeNLL(iz, M, f) + np.dot(q, np.log(q)))\n",
    "    NLL.append(computeNLL(iz, M, f) + np.dot(q, np.log(np.dot(M, f_lim))))\n",
    "    MSE.append(np.sum((f - eta)**2))\n",
    "    KL.append(- np.dot(eta, np.log(f)) + np.dot(eta, np.log(eta)))\n",
    "    MSE_EM.append(np.sum((f - f_lim)**2))\n",
    "\n",
    "print \"eta = {0}\".format(eta)\n",
    "print \"f_ml = {0}\".format(f)\n",
    "print \"f_v = {0}\".format(f_v)\n",
    "its = range(len(NLL))\n",
    "plt.loglog(its, NLL, label= \"Normalized NLL\")\n",
    "plt.loglog(its, MSE, label= \"MSE\")\n",
    "plt.loglog(its, MSE_EM, label= \"MSE_EM\")\n",
    "plt.loglog(its, KL, label= \"KL divergence\")\n",
    "plt.legend(loc='best')\n",
    "plt.axis('tight')\n",
    "plt.xlabel('Iteration')\n",
    "plt.ylim((1e-14, plt.ylim()[1]))\n",
    "plt.show()\n",
    "print \"The final estimate is {0}\".format(f)\n",
    "print \"The true label is {0}\".format(eta)\n"
   ]
  },
  {
   "cell_type": "markdown",
   "metadata": {},
   "source": [
    "In the figure above, we can expect that both the *Normalized NLL* and the *MSE_EM* converge to zero, because both measures are based on the comparison with the limit value. The curves are usefull to verify that the error measures decreas monotonically.\n",
    "\n",
    "The *MSE* and the *KL divergence* do not usually converge to zero, because of the finite sample size. Yoy may check that the limit values of these error measures are smaller when the sample size increases."
   ]
  },
  {
   "cell_type": "code",
   "execution_count": null,
   "metadata": {
    "collapsed": false
   },
   "outputs": [],
   "source": [
    "f_ml = computeML(iz, M, max_iter=100000, echo='on')\n",
    "\n",
    "print \"ML estimate: {0}\".format(f_ml)\n",
    "e2 = np.sum((f_ml - eta)**2)\n",
    "print \"Square error: {0}\".format(e2)"
   ]
  },
  {
   "cell_type": "markdown",
   "metadata": {},
   "source": [
    "## 2. Statistical analysis of the MSE.\n",
    "\n",
    "We will compute all estimates multiple times in order to compare the distribution of the MSE.\n",
    "\n",
    "First, to make sure that the WLL estimate is working properly, we plot the convergence of the estimate with the number of iterations"
   ]
  },
  {
   "cell_type": "code",
   "execution_count": null,
   "metadata": {
    "collapsed": false,
    "scrolled": true
   },
   "outputs": [],
   "source": [
    "n_sim = 100\n",
    "mse = {'wll': []}\n",
    "K = 1000\n",
    "for n in range(n_sim):\n",
    " \n",
    "    if (n+1)/1*1 == n+1:\n",
    "        print '\\r Simulation {0} out of {1}'.format(str(n+1), n_sim),\n",
    "    # Generate true labels\n",
    "    iy = np.random.choice(np.arange(0, C), size=K, p=eta)\n",
    "\n",
    "    # Generate weak label indices\n",
    "    z = wlw.generateWeak(iy, M, dec_labels)\n",
    "\n",
    "    # Estimation with virtual labels (M and dec_labels are not used if vl_model=='Mproper')\n",
    "    v = wlw.computeVirtual(z, C, method=vl_model, M=M, dec_labels=dec_labels)\n",
    "        \n",
    "    f_v = np.cumsum(v, axis=0) / np.arange(1, K+1)[:,np.newaxis]\n",
    "    mse_n = np.sum((f_v - eta)**2, axis=1)\n",
    "    mse['wll'].append(mse_n)    "
   ]
  },
  {
   "cell_type": "code",
   "execution_count": null,
   "metadata": {
    "collapsed": false
   },
   "outputs": [],
   "source": [
    "mse_mean = np.mean(mse['wll'], axis=0)\n",
    "d = mse['wll'] - mse_mean\n",
    "mse_std_u = np.sqrt(np.sum(d**2*(d >=0), axis=0)/np.sum((d >=0), axis=0))\n",
    "mse_std_d = np.sqrt(np.sum(d**2*(d <=0), axis=0)/np.sum((d <=0), axis=0))\n",
    "plt.fill_between(range(K), mse_mean - mse_std_d, mse_mean + mse_std_u,\n",
    "    alpha=0.2, edgecolor='#1B2ACC', facecolor='#089FFF',\n",
    "    linewidth=1, linestyle='solid', antialiased=True)\n",
    "plt.loglog(range(K), mse_mean)\n",
    "plt.axis('tight')\n",
    "plt.xlabel('Sample size')\n",
    "plt.ylabel('Average square error')\n",
    "plt.show()"
   ]
  },
  {
   "cell_type": "markdown",
   "metadata": {},
   "source": [
    "### 2.1. Supervision vs partial supervision\n",
    "\n",
    "In the following we test, for a fixed sample size, the estimation of $\\boldsymbol{\\eta}$ as the average of virtual labels, in comparison with a complete supervision (i.e., as the average of the true labels)."
   ]
  },
  {
   "cell_type": "code",
   "execution_count": null,
   "metadata": {
    "collapsed": false,
    "scrolled": false
   },
   "outputs": [],
   "source": [
    "n_sim = 200\n",
    "mse = {'sup': [], 'wll': [], 'wml': []}\n",
    "I_C = np.eye(C)\n",
    "\n",
    "for n in range(n_sim):\n",
    " \n",
    "    if (n+1)/1*1 == n+1:\n",
    "        print '\\r Simulation {0} out of {1}'.format(str(n+1), n_sim),\n",
    "\n",
    "    # Generate true labels\n",
    "    iy = np.random.choice(np.arange(0, C), size=K, p=eta)\n",
    "    y = I_C[iy]\n",
    "\n",
    "    # Generate weak label indices\n",
    "    z = wlw.generateWeak(iy, M, dec_labels)\n",
    "    iz = np.array([z2i[zi] for zi in z])\n",
    "\n",
    "    # Supervised estimation\n",
    "    f = np.mean(y, axis=0)\n",
    "    mse['sup'].append(np.sum((f - eta)**2))\n",
    "\n",
    "    # Estimation with virtual labels (M and dec_labels are not used if vl_model=='Mproper')\n",
    "    v = wlw.computeVirtual(z, C, method=vl_model, M=M, dec_labels=dec_labels)\n",
    "\n",
    "    f_v = np.mean(v, axis=0)\n",
    "    mse['wll'].append(np.sum((f_v - eta)**2))\n",
    "\n",
    "    # Estimation with ML-EM\n",
    "    f_ml = computeML(iz, M, f0=None, max_iter=1000, echo='off')\n",
    "    mse['wml'].append(np.sum((f_ml - eta)**2))\n"
   ]
  },
  {
   "cell_type": "markdown",
   "metadata": {},
   "source": [
    "The following error plots shows, that, under very weak supervision, there is a significant performance degradation caused by the use of weak labels."
   ]
  },
  {
   "cell_type": "code",
   "execution_count": null,
   "metadata": {
    "collapsed": false
   },
   "outputs": [],
   "source": [
    "tag_list = ['sup', 'wll', 'wml']\n",
    "for i, tag in enumerate(tag_list):\n",
    "    plt.scatter([i + 1]*n_sim, mse[tag], c=[i]*n_sim, s=10, cmap='copper')\n",
    "\n",
    "plt.xticks(range(1, 1 + len(tag_list)), tag_list, rotation='45')\n",
    "plt.axis('tight')\n",
    "plt.ylim((0, plt.ylim()[1]))\n",
    "plt.show(block=False)\n",
    "\n",
    "plt.boxplot([mse[tag] for tag in tag_list])\n",
    "plt.xticks(range(1, 1 + len(tag_list)), tag_list, rotation='45')\n",
    "plt.show()"
   ]
  },
  {
   "cell_type": "markdown",
   "metadata": {},
   "source": [
    "## 3. Influence of the selection of the weak label matrix\n",
    "\n",
    "In this section we show that the selection of the virtual label matrix is relevant. Though any left-inverse of the mixing matrix provides an umbiased posterior probability estimate, the quality of the estimate for a finite sample size depends on ${\\bf M}$."
   ]
  },
  {
   "cell_type": "code",
   "execution_count": 2,
   "metadata": {
    "collapsed": false
   },
   "outputs": [
    {
     "name": "stdout",
     "output_type": "stream",
     "text": [
      "eta = [ 0.02415819  0.7185569   0.25728491]\n"
     ]
    }
   ],
   "source": [
    "# CONFIGURABLE PARAMETERS FOR THIS SECTION\n",
    "C = 3                             # Number of classes\n",
    "\n",
    "#eta = np.array([0.5, 0.2, 0.3])   # True probability vector\n",
    "eta = np.random.dirichlet((1,1,1), 1)[0]       # True probability vector\n",
    "print(\"eta = {}\".format(eta))\n",
    "\n",
    "# Weak Label model.\n",
    "# This section is focused on the 'quasi_IPL' model. Some (maybe all) of the other available models will not work here.\n",
    "wl_model = 'quasi_IPL'  \n",
    "beta = 0.8"
   ]
  },
  {
   "cell_type": "markdown",
   "metadata": {},
   "source": [
    "First of all, for convenience, we will use a different order for the weak labels."
   ]
  },
  {
   "cell_type": "code",
   "execution_count": 3,
   "metadata": {
    "collapsed": false
   },
   "outputs": [
    {
     "name": "stdout",
     "output_type": "stream",
     "text": [
      "Weak label ordering (in decimal format): [4 2 1 3 5 6]\n",
      "Mixing matrix: \n",
      "[[ 0.11111111  0.          0.        ]\n",
      " [ 0.          0.11111111  0.        ]\n",
      " [ 0.          0.          0.11111111]\n",
      " [ 0.          0.44444444  0.44444444]\n",
      " [ 0.44444444  0.          0.44444444]\n",
      " [ 0.44444444  0.44444444  0.        ]]\n"
     ]
    }
   ],
   "source": [
    "# Mixing matrix\n",
    "M = wlw.computeM(C, beta=beta, method=wl_model)\n",
    "if wl_model == 'quasi_IPL':\n",
    "    dec_labels = np.arange(0, 2**C)\n",
    "elif wl_model in ['noisy', 'random_noise']:\n",
    "    dec_labels = 2**np.arange(C-1, -1, -1)\n",
    "else:\n",
    "    raise ValueError(\"dec_labels not implemented for the given wl_model\")\n",
    "\n",
    "# Remove zero rows\n",
    "flag = np.nonzero(np.sum(M, axis=1))[0]\n",
    "M = M[flag, :]                 # This is to remove zero rows, which are not relevant\n",
    "dec_labels = dec_labels[flag]  # This is to remove zero rows, which are not relevant\n",
    "\n",
    "# Reorder rows\n",
    "dec_labels = np.array([4, 2, 1, 3, 5, 6])\n",
    "M = M[dec_labels-1]\n",
    "\n",
    "print(\"Weak label ordering (in decimal format): {}\".format(dec_labels))\n",
    "print(\"Mixing matrix: \\n{}\".format(M))"
   ]
  },
  {
   "cell_type": "markdown",
   "metadata": {},
   "source": [
    "Now, we will create two virtual label matrices, ${\\bf V}_u$ and ${\\bf V}_d$, that are left inverses of ${\\bf M}$"
   ]
  },
  {
   "cell_type": "code",
   "execution_count": 4,
   "metadata": {
    "collapsed": false,
    "scrolled": true
   },
   "outputs": [
    {
     "name": "stdout",
     "output_type": "stream",
     "text": [
      "Vu = \n",
      "[[ 9.  0.  0.  0.  0.  0.]\n",
      " [ 0.  9.  0.  0.  0.  0.]\n",
      " [ 0.  0.  9.  0.  0.  0.]]\n",
      "Vd = \n",
      "[[ 0.    -0.     0.    -1.125  1.125  1.125]\n",
      " [-0.    -0.     0.     1.125 -1.125  1.125]\n",
      " [-0.     0.     0.     1.125  1.125 -1.125]]\n",
      "V = \n",
      "[[ 0.399 -0.13  -0.13  -1.043  1.075  1.075]\n",
      " [-0.13   0.399 -0.13   1.075 -1.043  1.075]\n",
      " [-0.13  -0.13   0.399  1.075  1.075 -1.043]]\n"
     ]
    }
   ],
   "source": [
    "# Get the up and down halves of the mixing matrix\n",
    "up = np.array([[1, 1, 1, 0, 0, 0]]).T\n",
    "down = np.array([[0, 0, 0, 1, 1, 1]]).T\n",
    "Mu = M*up \n",
    "Md = M*down\n",
    "pu = np.sum(Mu, axis=0, keepdims=True)\n",
    "pd = np.sum(Md, axis=0, keepdims=True)\n",
    "Mu = Mu / pu\n",
    "Md = Md / pd\n",
    "\n",
    "# Compute the virtual label matrices given by the Moore-Penrose pseudoinverses of Mu, Md and M\n",
    "Vu = np.linalg.pinv(Mu)/pu.T\n",
    "Vd = np.linalg.pinv(Md)/pd.T\n",
    "V = np.linalg.pinv(M)\n",
    "\n",
    "# Print virtual label matrices\n",
    "Vd2 = np.round(1000*Vd).astype(float)/1000    # This is just for a nicer view...\n",
    "V2 = np.round(1000*V).astype(float)/1000    # This is just for a nicer view...\n",
    "print(\"Vu = \\n{}\".format(Vu))\n",
    "print(\"Vd = \\n{}\".format(Vd2))\n",
    "print(\"V = \\n{}\".format(V2))"
   ]
  },
  {
   "cell_type": "markdown",
   "metadata": {},
   "source": [
    "Any convex combination \n",
    "\n",
    "$${\\bf V} = w {\\bf V}_u + (1-w) {\\bf V}_d$$\n",
    "\n",
    "is also a virtual matrix. Thus, we can evaluate the behavior of the estimator as a function of $w$"
   ]
  },
  {
   "cell_type": "code",
   "execution_count": 6,
   "metadata": {
    "collapsed": false,
    "scrolled": true
   },
   "outputs": [
    {
     "data": {
      "image/png": "[encoded data removed]",
      "text/plain": [
       "<matplotlib.figure.Figure at 0x116f87550>"
      ]
     },
     "metadata": {},
     "output_type": "display_data"
    },
    {
     "name": "stdout",
     "output_type": "stream",
     "text": [
      "The optimal weight is: 0.272727272727\n",
      "The optimal mixed virtual label matrix is: \n",
      "[[ 2.455 -0.     0.    -0.818  0.818  0.818]\n",
      " [-0.     2.455  0.     0.818 -0.818  0.818]\n",
      " [-0.     0.     2.455  0.818  0.818 -0.818]]\n",
      "The optimal mixed MSE is: 1.87144229544\n",
      "The optimal virtual label matrix is: \n",
      "[[ 0.399 -0.13  -0.13  -1.043  1.075  1.075]\n",
      " [-0.13   0.399 -0.13   1.075 -1.043  1.075]\n",
      " [-0.13  -0.13   0.399  1.075  1.075 -1.043]]\n",
      "The optimal MSE is: 2.45935788797\n"
     ]
    }
   ],
   "source": [
    "# Analytical computation of the MSE\n",
    "etav = eta[:, np.newaxis]    # The true probability vector, in column form\n",
    "w = np.linspace(0, 1, num=101)\n",
    "\n",
    "p = np.dot(M, etav)\n",
    "D = np.diag(p.T[0])\n",
    "mse_w = []\n",
    "for wi in w:\n",
    "    Vi = wi * Vu + (1 - wi) * Vd\n",
    "    E = Vi - etav\n",
    "    e2 = np.trace(np.dot(np.dot(E, D), E.T))\n",
    "    mse_w.append(e2)\n",
    "\n",
    "mse_w = np.array(mse_w)\n",
    "\n",
    "# Analytical computation of the optimal weight\n",
    "Ed = etav - Vd\n",
    "delta = Vu - Vd\n",
    "wopt = (np.trace(np.dot(np.dot(Ed, D), delta.T)) /\n",
    "        np.trace(np.dot(np.dot(delta, D), delta.T)))\n",
    "\n",
    "# Optimal mixed virtual label matrix\n",
    "Vw = wopt * Vu + (1 - wopt) * Vd\n",
    "E = Vw - etav\n",
    "mse_wopt = np.dot(np.sum(E*E, axis=0), p)[0]\n",
    "\n",
    "# Optimal virtual label matrix\n",
    "E = V - etav\n",
    "mse_opt = np.dot(np.sum(E*E, axis=0), p)[0]\n",
    "\n",
    "    \n",
    "plt.plot(w, mse_w, label='Mixed VLM')\n",
    "plt.stem([wopt], [mse_wopt])\n",
    "plt.plot([0, 1], [mse_opt, mse_opt], label='Bound')\n",
    "plt.xlabel('$w$')\n",
    "plt.ylabel('MSE')\n",
    "plt.legend()\n",
    "plt.show()\n",
    "\n",
    "# Virtual label matrix for the optimal weight:\n",
    "print(\"The optimal weight is: {}\".format(wopt))\n",
    "Vw2 = np.round(1000*Vw).astype(float)/1000    # This is just for a nicer view...\n",
    "print(\"The optimal mixed virtual label matrix is: \\n{}\".format(Vw2))\n",
    "print(\"The optimal mixed MSE is: {}\".format(mse_wopt))\n",
    "\n",
    "\n",
    "# Virtual label matrix for the optimal weight:\n",
    "V2 = np.round(1000*V).astype(float)/1000    # This is just for a nicer view...\n",
    "print(\"The optimal virtual label matrix is: \\n{}\".format(V2))\n",
    "print(\"The optimal MSE is: {}\".format(mse_opt))\n",
    "\n",
    "# This is to check that all virtual matrices computed here are indeed left inverses of M\n",
    "# print(np.round(1000*np.dot(Vu, M).astype(float)/1000))\n",
    "# print(np.round(1000*np.dot(Vd, M).astype(float)/1000))\n",
    "# print(np.round(1000*np.dot(Vw, M).astype(float)/1000))\n",
    "# print(np.round(1000*np.dot(V, M).astype(float)/1000))\n"
   ]
  },
  {
   "cell_type": "markdown",
   "metadata": {},
   "source": [
    "The following code is to check that the analytical MSE is correct and fits the empirical estimate:"
   ]
  },
  {
   "cell_type": "code",
   "execution_count": 14,
   "metadata": {
    "collapsed": false,
    "scrolled": false
   },
   "outputs": [
    {
     "name": "stdout",
     "output_type": "stream",
     "text": [
      " Simulation 100 out of 100"
     ]
    },
    {
     "data": {
      "image/png": "[encoded data removed]",
      "text/plain": [
       "<matplotlib.figure.Figure at 0x117bfd210>"
      ]
     },
     "metadata": {},
     "output_type": "display_data"
    },
    {
     "name": "stdout",
     "output_type": "stream",
     "text": [
      " The optimal weight is 0.272727272727\n",
      "The optimal MSE is: 0.000491871577593\n",
      "The average SE of the optimal Virtual Matrix is [ 0.00046146]\n"
     ]
    }
   ],
   "source": [
    "# Configurable parameters\n",
    "K = 5000      # Sample size\n",
    "n_sim = 100    # No. of simulations to average\n",
    "\n",
    "# Weak label indices\n",
    "ilabels = [0, 1, 2, 3, 4, 5]\n",
    "\n",
    "I_C = np.eye(C)\n",
    "ase = 0\n",
    "ase_opt = 0\n",
    "for n in range(n_sim):\n",
    " \n",
    "    if (n+1)/1*1 == n+1:\n",
    "        print '\\r Simulation {0} out of {1}'.format(str(n+1), n_sim),\n",
    "\n",
    "    # Generate true labels\n",
    "    iy = np.random.choice(np.arange(0, C), size=K, p=eta)\n",
    "\n",
    "    # Generate weak label indices\n",
    "    iz = wlw.generateWeak(iy, M, dec_labels=ilabels)\n",
    "\n",
    "    # Up and down estimates\n",
    "    fu = np.mean(Vu[:, iz], axis=1, keepdims=True)\n",
    "    fd = np.mean(Vd[:, iz], axis=1, keepdims=True)\n",
    "    fo = np.mean(V[:, iz], axis=1, keepdims=True)\n",
    "    f = w * fu + (1 - w) * fd\n",
    "    \n",
    "    ase += np.sum((f - etav)**2, axis=0)\n",
    "    ase_opt += np.sum((fo - etav)**2, axis=0)\n",
    "\n",
    "ase = ase / n_sim\n",
    "ase_opt = ase_opt / n_sim\n",
    "\n",
    "plt.plot(w, ase, label='AvSE')\n",
    "plt.plot(w, mse_w/K, label='MSE')\n",
    "plt.plot([0, 1], [mse_opt/K, mse_opt/K], label='Bound')\n",
    "plt.plot([0, 1], [ase_opt, ase_opt], label='Bound (est.)')\n",
    "plt.stem([wopt], [mse_wopt/K])\n",
    "plt.xlabel('$w$')\n",
    "plt.ylabel('MSE')\n",
    "plt.legend()\n",
    "plt.show()\n",
    "\n",
    "print(\"The optimal weight is {}\".format(wopt))\n",
    "print(\"The optimal MSE is: {}\".format(mse_opt/K))\n",
    "print(\"The average SE of the optimal Virtual Matrix is {}\".format(ase_opt))\n"
   ]
  },
  {
   "cell_type": "markdown",
   "metadata": {},
   "source": [
    "To verify if the minimun does not depend on $\\boldsymbol{\\eta}$,"
   ]
  },
  {
   "cell_type": "code",
   "execution_count": null,
   "metadata": {
    "collapsed": false
   },
   "outputs": [],
   "source": [
    "Ed = etav - Vd\n",
    "delta = Vu - Vd\n",
    "\n",
    "for i in range(10):\n",
    "    eta = np.random.dirichlet((1,1,1), 1)[0]\n",
    "    etav = eta[:, np.newaxis]    # The true probability vector, in column form\n",
    "    D = np.diag(np.dot(M0, etav).T[0])\n",
    "    a = np.trace(np.dot(np.dot(Ed, D), delta.T))\n",
    "    b = np.trace(np.dot(np.dot(delta, D), delta.T))\n",
    "\n",
    "    print(np.diag(np.dot(np.dot(delta, D), delta.T)))"
   ]
  },
  {
   "cell_type": "code",
   "execution_count": null,
   "metadata": {
    "collapsed": true
   },
   "outputs": [],
   "source": [
    "M0 = np.random.rand(6, 3)\n",
    "M0 = M0 / np.sum(M0, axis=0)\n",
    "V = np.linalg.pinv(M0)"
   ]
  },
  {
   "cell_type": "code",
   "execution_count": null,
   "metadata": {
    "collapsed": false
   },
   "outputs": [],
   "source": [
    "np.sum(M0, axis=1)"
   ]
  },
  {
   "cell_type": "code",
   "execution_count": null,
   "metadata": {
    "collapsed": false
   },
   "outputs": [],
   "source": [
    "eta = np.random.dirichlet((1, 1, 1), 1)[0]\n",
    "etav = eta[:, np.newaxis]    # The true probability vector, in column form\n",
    "\n",
    "Meta = np.dot(M0, etav)\n",
    "DMeta = np.diag(Meta.T[0]) \n",
    "A = np.dot(Meta.T, np.diag(np.dot(V.T, V)))[0]\n",
    "mse = A - np.dot(etav.T, etav)[0, 0]\n",
    "print(A)\n",
    "print(mse)\n",
    "\n",
    "print(V.T)\n",
    "r = np.diag(np.dot(V.T, V))\n",
    "print(r)\n",
    "print(np.dot(M0.T, r))"
   ]
  },
  {
   "cell_type": "markdown",
   "metadata": {},
   "source": [
    "## 4. Combination of datasets\n",
    "\n",
    "In the following experiments we explore the combination of a fully labeled dataset with a weakly labeled dataset. We show that the beharior of the estimate based on virtual label depends on the choice of the virtual label vector.\n",
    "\n",
    "The experiment demonstrates that, though different virtual label matrices can be asymptotically equivalent for the estimation of the probability vector, they show a different behavior under finite samples. \n",
    "\n",
    "### 4.1. Weighting samples\n",
    "\n",
    "In the following experiments we explore virtual matrices ${\\bf V}$ which are a combination of virtual matrices from the original datasets, i.e. they have the form ${\\bf V} = (w{\\bf V}_0, (1-w){\\bf V}_1)$ where ${\\bf V}_0$ and ${\\bf V}_1$ are virtual matrices for the original datasets. We show that the empirical mse depends on $w$, and there is an optimal choice for $w$.\n",
    "\n",
    "Note that the experiment does not explore all posible virtual matrices (i.e. all left inverses of the mixing matrix), but only those that are a composition of two fixed virtual matrices."
   ]
  },
  {
   "cell_type": "code",
   "execution_count": null,
   "metadata": {
    "collapsed": true,
    "scrolled": false
   },
   "outputs": [],
   "source": [
    "n_sim = 100\n",
    "K = 5000\n",
    "\n",
    "mse = []\n",
    "for n in range(n_sim):\n",
    "\n",
    "    if (n+1)/1*1 == n+1:\n",
    "        print str(n+1),\n",
    "\n",
    "    # Generate fully labeled dataset\n",
    "    iy = np.random.choice(np.arange(0, C), size=K, p=eta)\n",
    "    y = I_C[iy]\n",
    "\n",
    "    # Generate weakly labeled dataset\n",
    "    iy = np.random.choice(np.arange(0, C), size=K, p=eta)\n",
    "    z = wlw.generateWeak(iy, M, dec_labels)\n",
    "\n",
    "    # Supervised estimation\n",
    "    f = np.mean(y, axis=0)\n",
    "\n",
    "    # Estimation with virtual labels (M and dec_labels are not used if vl_model=='Mproper')\n",
    "    v = wlw.computeVirtual(z, C, method=vl_model, M=M, dec_labels=dec_labels)\n",
    "\n",
    "    f_v = np.mean(v, axis=0)\n",
    "    \n",
    "    # Combination of virtual labels. \n",
    "    # Al values of w provide consistent virtual matrices. However, the msw for a finite sample depends on w.\n",
    "    w = np.arange(0, 1, 0.001)[:, np.newaxis]\n",
    "    f_est = f * w + f_v * (1 - w)\n",
    "    mse_n = np.sum((f_est - eta)**2, axis=1)\n",
    "    mse.append(mse_n)\n",
    "\n",
    "plt.plot(w.flatten(), np.array(mse).T)\n",
    "plt.xlabel('w')\n",
    "plt.ylabel('mse')\n",
    "plt.xlim([0, 1])\n",
    "plt.show()\n",
    "\n",
    "mse_mean =  np.mean(np.array(mse), axis=0)\n",
    "mse_std = np.std(np.array(mse), axis=0)\n",
    "plt.plot(w.flatten(), mse_mean)\n",
    "plt.fill_between(w.flatten(), mse_mean - mse_std, mse_mean + mse_std,\n",
    "    alpha=0.2, edgecolor='#1B2ACC', facecolor='#089FFF',\n",
    "    linewidth=4, linestyle='dashdot', antialiased=True)\n",
    "plt.xlabel('w')\n",
    "plt.ylabel('mse')\n",
    "plt.xlim([0, 1])\n",
    "plt.show()\n"
   ]
  },
  {
   "cell_type": "markdown",
   "metadata": {
    "collapsed": true
   },
   "source": [
    "### 4.2. Optimal weight versus noise level\n",
    "\n",
    "The following experiment shows that the relation between the noise level and the optimal weight might be non-trivial."
   ]
  },
  {
   "cell_type": "code",
   "execution_count": null,
   "metadata": {
    "collapsed": true,
    "scrolled": false
   },
   "outputs": [],
   "source": [
    "Ktrue = 2000       # Number of clean labels\n",
    "Kweak = 2000       # Number of weak labels       \n",
    "qTrue = float(Ktrue)/(Ktrue + Kweak)\n",
    "qWeak = float(Kweak)/(Ktrue + Kweak)\n",
    "\n",
    "n_betas = 10\n",
    "beta_set = np.linspace(0, 1-1.0/n_betas, n_betas)\n",
    "\n",
    "n_sim = 200      # Number of experiments for each value of eta.\n",
    "wmse = []\n",
    "wkld = []\n",
    "w = np.linspace(0, 1, 101)[:, np.newaxis]/ qTrue\n",
    "\n",
    "for beta in beta_set:\n",
    "\n",
    "    print \"\\rBeta = {0}\".format(beta),\n",
    "    \n",
    "    # Mixing matrix\n",
    "    M_b = wlw.computeM(C, beta=beta, method=wl_model)\n",
    "    if wl_model == 'quasi_IPL':\n",
    "        dec_labels_b = np.arange(0, 2**C)\n",
    "    elif wl_model in ['noisy', 'random_noise']:\n",
    "        dec_labels_b = 2**np.arange(C-1, -1, -1)\n",
    "    else:\n",
    "        raise ValueError(\"dec_labels not implemented for the given wl_model\")\n",
    "\n",
    "    # Compute virtual matrix (this is to compute virtual labels in a more efficient way\n",
    "    # than the current implementation of ComputeVirtual in WLweakener)\n",
    "    V = np.linalg.pinv(M_b)    \n",
    "    \n",
    "    np.random.seed(0)\n",
    "    mse = []\n",
    "    kld = []\n",
    "    for n in range(n_sim):\n",
    "\n",
    "        # Generate fully labeled dataset\n",
    "        iy = np.random.choice(np.arange(0, C), size=Ktrue, p=eta)\n",
    "        y = I_C[iy]\n",
    "\n",
    "        # Generate weakly labeled dataset\n",
    "        iy2 = np.random.choice(np.arange(0, C), size=Kweak, p=eta)\n",
    "        z2 = wlw.generateWeak(iy2, M_b, dec_labels_b)\n",
    "\n",
    "        # Compute inverted index \n",
    "        z2i = dict(zip(dec_labels_b, range(len(dec_labels_b))))\n",
    "        # Transform (decimal) weak labels into their corresponding indices in dec_labels.\n",
    "        iz2 = np.array([z2i[zi] for zi in z2])\n",
    "    \n",
    "        # Supervised estimation\n",
    "        f = np.mean(y, axis=0)\n",
    "\n",
    "        # Estimation with virtual labels\n",
    "        # v = wlw.computeVirtual(iz, C, method='Mproper', M=M)\n",
    "        v = V.T[iz2.astype(int)]\n",
    "        f_v = np.mean(v, axis=0)\n",
    "        \n",
    "        # if np.any(f_v<=0):\n",
    "        #     print \"f_v = {0}\".format(f_v)\n",
    "\n",
    "        # Weighted average\n",
    "        f_est = f * w * qTrue + f_v * (1 - w * qTrue)\n",
    "        # f_est = f * w + f_v * (1 - w)\n",
    "        mse_n = np.sum((f_est - eta)**2, axis=1)\n",
    "        mse.append(mse_n)\n",
    "        \n",
    "        kld_n = - np.dot(eta, np.log(f_est.T)) \n",
    "        kld.append(kld_n)\n",
    "\n",
    "    mse_mean =  np.mean(np.array(mse), axis=0)\n",
    "    imin = np.argmin(mse_mean)\n",
    "    wmse.append(w[imin][0])\n",
    "    \n",
    "    kld_mean =  np.mean(np.array(kld), axis=0)\n",
    "    imin = np.argmin(kld_mean)\n",
    "    wkld.append(w[imin][0])"
   ]
  },
  {
   "cell_type": "code",
   "execution_count": null,
   "metadata": {
    "collapsed": true
   },
   "outputs": [],
   "source": [
    "plt.plot(beta_set, np.array(wmse).flatten(), label=\"MSE\")\n",
    "plt.plot(beta_set, np.array(wkld).flatten(), label=\"KLD\")\n",
    "plt.xlabel('beta (i.e. from low to high noise)')\n",
    "plt.ylabel('wmin')\n",
    "plt.legend(loc='best')\n",
    "plt.show()"
   ]
  },
  {
   "cell_type": "markdown",
   "metadata": {},
   "source": [
    "The last experiment shows several important issues:\n",
    "\n",
    "* The optimal weights could be independent on the choice of the proper loss\n",
    "* The average of the virtual labels can be out of the probability simplex. In this respect, the optimal probability estimate should be computed with the constraint that the estimate lies inside the probability simplex. (Negative values are the cause of the anomalies in the KL divergence weighs that may appear in the above plot).\n"
   ]
  },
  {
   "cell_type": "markdown",
   "metadata": {
    "collapsed": true
   },
   "source": [
    "### 4.3. A comparison between EM, virtual labels and the optimal weights\n",
    "\n",
    "The following section shows that, despite ML-EM and weak losses may lead to different results, they can show very similar performance, though the results may depend on the selection of the configurable parameters (in particular, label proportions and mixing matrix)."
   ]
  },
  {
   "cell_type": "code",
   "execution_count": null,
   "metadata": {
    "collapsed": true,
    "scrolled": true
   },
   "outputs": [],
   "source": [
    "Ktrue = 40       # Number of clean labels\n",
    "Kweak = 40       # Number of weak labels       \n",
    "qTrue = float(Ktrue)/(Ktrue + Kweak)\n",
    "qWeak = float(Kweak)/(Ktrue + Kweak)\n",
    "\n",
    "n_betas = 20\n",
    "beta_set = np.linspace(0, 1.0-1.0/n_betas, n_betas)\n",
    "n_sim = 2000      # Number of experiments for each value of eta.\n",
    "wmse = []\n",
    "w = np.linspace(0, 1, 101)[:, np.newaxis]/ qTrue\n",
    "\n",
    "mse_w = []\n",
    "mse_v = []\n",
    "mse_ml = []\n",
    "wtest = []\n",
    "wpseudo = []\n",
    "\n",
    "for beta in beta_set:\n",
    "\n",
    "    print \"\\rBeta = {0}\".format(beta),\n",
    "    \n",
    "    # Mixing matrix\n",
    "    M_b = wlw.computeM(C, beta=beta, method=wl_model)\n",
    "    if wl_model == 'quasi_IPL':\n",
    "        dec_labels_b = np.arange(0, 2**C)\n",
    "    elif wl_model == 'noisy':\n",
    "        dec_labels_b = 2**np.arange(C-1, -1, -1)\n",
    "    else:\n",
    "        raise ValueError(\"dec_labels not implemented for the given wl_model\")\n",
    "    # Remove zero rows\n",
    "    flag = np.nonzero(np.sum(M_b, axis=1))[0]\n",
    "    M_b = M_b[flag, :]   # This is to remove zero rows, which are not relevant\n",
    "    dec_labels_b = dec_labels_b[flag]   # This is to remove zero rows, which are not relevant\n",
    "        \n",
    "    # Compute virtual matrix \n",
    "    # Note that the virtual label matrix is equivalent to the (transpose of the) matrix of virtual labels \n",
    "    # corresponding to the weak labels in dec_labels.\n",
    "    # Computing the virtual matrix here we avoid computing a pseudoinverse inside the \"for\" loop below\n",
    "    V = wlw.computeVirtual(dec_labels_b, C, method=vl_model, M=M_b, dec_labels=dec_labels_b).T\n",
    "    \n",
    "    # Compute combined mixing matrix\n",
    "    M2 = np.vstack((qTrue*np.eye(C), qWeak*M_b))\n",
    "    V2 = np.linalg.pinv(M2)\n",
    "\n",
    "    np.random.seed(0)\n",
    "    mse_wn = []\n",
    "    mse_vn = []\n",
    "    mse_mln = []\n",
    "\n",
    "    for n in range(n_sim):\n",
    "\n",
    "        # #####################\n",
    "        # ## Dataset generation\n",
    "        \n",
    "        # Generate fully labeled dataset\n",
    "        iy = np.random.choice(np.arange(0, C), size=Ktrue, p=eta)\n",
    "        y = I_C[iy]\n",
    "\n",
    "        # Generate weakly labeled dataset\n",
    "        iy2 = np.random.choice(np.arange(0, C), size=Kweak, p=eta)\n",
    "        z = wlw.generateWeak(iy2, M_b, dec_labels_b)\n",
    "\n",
    "        # Compute inverted index \n",
    "        z2i = dict(zip(dec_labels_b, range(len(dec_labels_b))))\n",
    "        # Transform (decimal) weak labels into their corresponding indices in dec_labels.\n",
    "        iz = np.array([z2i[zi] for zi in z])\n",
    "\n",
    "        # Join datasets\n",
    "        iz2 = np.hstack((iy, iz + C))\n",
    "        \n",
    "        # #######################\n",
    "        # ## Weighted combination\n",
    "        \n",
    "        # Supervised estimation with dataset 0\n",
    "        f = np.mean(y, axis=0)\n",
    "\n",
    "        # Estimation with virtual labels and dataset 1\n",
    "        # v = wlw.computeVirtual(iz, C, method='Mproper', M=M)\n",
    "        v = V.T[iz.astype(int)]\n",
    "        \n",
    "        f_v = np.mean(v, axis=0)\n",
    "        \n",
    "        # Weighted average\n",
    "        f_est = f*w*qTrue + f_v*(1-w*qTrue)\n",
    "        mse_wn.append(np.sum((f_est - eta)**2, axis=1))\n",
    "\n",
    "        # #######################\n",
    "        # ## (pinv) M-proper loss\n",
    "        v2 = V2.T[iz2.astype(int)]\n",
    "        f_v2 = np.mean(v2, axis=0)\n",
    "        mse_vn.append(np.sum((f_v2 - eta)**2))        \n",
    "        \n",
    "        # ##############\n",
    "        # ## ML estimate\n",
    "        f_ml = computeML(iz2, M2, f0=None, max_iter=1000, echo='off')\n",
    "        mse_mln.append(np.sum((f_ml - eta)**2))\n",
    "\n",
    "    mse_mean =  np.mean(np.array(mse_wn), axis=0)\n",
    "    imin = np.argmin(mse_mean)\n",
    "    wmse.append(w[imin][0])\n",
    "    mse_w.append(np.min(mse_mean))\n",
    "\n",
    "    mse_v.append(np.mean(np.array(mse_vn), axis=0))\n",
    "    mse_ml.append(np.mean(np.array(mse_mln), axis=0))\n",
    "    \n",
    "    F11 = qWeak**2 * np.linalg.norm(np.dot(M, V), 'fro')**2\n",
    "    F10 = qWeak**2 * np.linalg.norm(M, 'fro')**2\n",
    "    F01 = qTrue**2 * np.linalg.norm(V, 'fro')**2\n",
    "    F00 = qTrue**2*C\n",
    "    w0= qTrue*C/(F00 + F10)\n",
    "    \n",
    "    wtest.append(qTrue*(F11+F01) / (qTrue**2*(F11+F01) + qWeak**2*(F00+F10)))\n",
    "    wpseudo.append((w0/qTrue-1))\n",
    "    \n",
    "print mse_w\n",
    "print mse_v\n",
    "print mse_ml"
   ]
  },
  {
   "cell_type": "markdown",
   "metadata": {},
   "source": [
    "The next figure shows the MSE obtained with ML-EM (red), virtual labels based on the left inverse of ${\\bf M}$ provided by `pinv` (blue) and virtual labels with the empirically optimal weights. The results may depend on the choice of the mixing matrix, but in general there is a good adjustment between ML and virtual labels. Also, there seem to exist some optimal weight providing and MSE equivalent to ML."
   ]
  },
  {
   "cell_type": "code",
   "execution_count": null,
   "metadata": {
    "collapsed": true,
    "scrolled": false
   },
   "outputs": [],
   "source": [
    "plt.plot(beta_set, np.array(mse_w).flatten(), label=\"WLL_w\")\n",
    "plt.plot(beta_set, np.array(mse_v).flatten(), label=\"WLL\")\n",
    "plt.plot(beta_set, np.array(mse_ml).flatten(), label=\"ML-EM\")\n",
    "plt.xlabel('beta (from low to high noise)')\n",
    "plt.ylabel('mse')\n",
    "# plt.ylim((0, np.max(mse_w)+0.001))\n",
    "plt.legend(loc='best')\n",
    "plt.show()\n",
    "\n",
    "print mse_ml"
   ]
  },
  {
   "cell_type": "markdown",
   "metadata": {},
   "source": [
    "In the draft paper I have derived some equations to compute the optimal weights of a combination of two given virtual matrices.\n",
    "These weights are computed below, for different values of beta."
   ]
  },
  {
   "cell_type": "code",
   "execution_count": null,
   "metadata": {
    "collapsed": true
   },
   "outputs": [],
   "source": [
    "n_betas = 20\n",
    "beta_set = np.linspace(0, 1-1.0/n_betas, n_betas)\n",
    "wtest = []\n",
    "wpseudo = []\n",
    "\n",
    "for beta in beta_set:\n",
    "\n",
    "    print \"\\rBeta = {0}\".format(beta),\n",
    "\n",
    "    # Mixing matrix\n",
    "    M = wlw.computeM(C, beta=beta, method=wl_model)\n",
    "\n",
    "    # Compute virtual matrix (this is to compute virtual labels in a more efficient way\n",
    "    # than the current implementation of ComputeVirtual in WLweakener)\n",
    "    V = np.linalg.pinv(M)\n",
    "\n",
    "    # Compute combined mixing matrix\n",
    "    M2 = np.vstack((qTrue*np.eye(C), qWeak*M))\n",
    "    V2 = np.linalg.pinv(M2)\n",
    "\n",
    "    F11 = qWeak**2 * np.linalg.norm(np.dot(M, V), 'fro')**2\n",
    "    F10 = qWeak**2 * np.linalg.norm(M, 'fro')**2\n",
    "    F01 = qTrue**2 * np.linalg.norm(V, 'fro')**2\n",
    "    F00 = qTrue**2*C\n",
    "    w0= qTrue*C/(F00 + F10)\n",
    "    \n",
    "    wtest.append(qTrue*(F11 + F01) / (qTrue**2*(F11+F01) + qWeak**2*(F00+F10)))\n",
    "    wpseudo.append(w0/qTrue-1)"
   ]
  },
  {
   "cell_type": "markdown",
   "metadata": {},
   "source": [
    "Next figure shows the difference between the empirically optimal weights (blue), the prediction (green) and a slight modification of the prediction that seems to improve the adjustment between predicted and optimal weights in a significant manner. No conclusions can be made yet, because there could be errors in the derived equations (to be checked)."
   ]
  },
  {
   "cell_type": "code",
   "execution_count": null,
   "metadata": {
    "collapsed": true,
    "scrolled": true
   },
   "outputs": [],
   "source": [
    "plt.plot(beta_set, np.array(wmse).flatten(), label=\"Empirical\")\n",
    "plt.plot(beta_set, np.array(wtest).flatten(), label=\"Prediction\")\n",
    "plt.plot(beta_set, np.array(wpseudo).flatten(), label=\"Pseudo-pred\")\n",
    "plt.xlabel('beta (from low to high noise)')\n",
    "plt.ylabel('wmin')\n",
    "plt.legend(loc=\"best\")\n",
    "plt.show()\n",
    "print np.array(wmse).flatten()"
   ]
  },
  {
   "cell_type": "code",
   "execution_count": null,
   "metadata": {
    "collapsed": true
   },
   "outputs": [],
   "source": [
    "beta_set = np.linspace(0, 1, 21)\n",
    "print beta_set"
   ]
  },
  {
   "cell_type": "code",
   "execution_count": null,
   "metadata": {
    "collapsed": true
   },
   "outputs": [],
   "source": []
  },
  {
   "cell_type": "code",
   "execution_count": null,
   "metadata": {
    "collapsed": true
   },
   "outputs": [],
   "source": []
  }
 ],
 "metadata": {
  "anaconda-cloud": {},
  "kernelspec": {
   "display_name": "Python [conda root]",
   "language": "python",
   "name": "conda-root-py"
  },
  "language_info": {
   "codemirror_mode": {
    "name": "ipython",
    "version": 2
   },
   "file_extension": ".py",
   "mimetype": "text/x-python",
   "name": "python",
   "nbconvert_exporter": "python",
   "pygments_lexer": "ipython2",
   "version": "2.7.11"
  }
 },
 "nbformat": 4,
 "nbformat_minor": 1
}
