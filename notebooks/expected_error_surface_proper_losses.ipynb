{
 "cells": [
  {
   "cell_type": "code",
   "execution_count": 1,
   "metadata": {},
   "outputs": [],
   "source": [
    "%matplotlib inline"
   ]
  },
  {
   "cell_type": "code",
   "execution_count": 2,
   "metadata": {},
   "outputs": [],
   "source": [
    "from IPython.display import display\n",
    "\n",
    "import numpy\n",
    "from numpy import linspace\n",
    "from sympy import lambdify, init_printing\n",
    "from sympy import symbols, pi, sqrt, exp\n",
    "\n",
    "from matplotlib import pyplot\n",
    "\n",
    "init_printing()"
   ]
  },
  {
   "cell_type": "markdown",
   "metadata": {},
   "source": [
    "# Logistic function\n",
    "\n",
    "$$ S(x) = \\frac{1}{1 + e^{-x}} = \\frac{e^x}{e^x + 1} $$\n",
    "\n",
    "# Normal distribution\n",
    "\n",
    "$$ f(x | \\mu, \\sigma^2) = \\frac{1}{\\sqrt{2\\pi \\sigma^2}} e^{-\\frac{(x-\\mu)^2}{2\\sigma^2}} $$\n",
    "\n",
    "- $\\mu$ is the mean or expectation of the distribution\n",
    "- $\\sigma$ is the standard deviation\n",
    "- $\\sigma^2$ is the variance\n",
    "\n",
    "# Likelihood ratio of two Normals with same variance\n",
    "\n",
    "$$ f(x | \\mu_0, \\sigma^2) = \\frac{1}{\\sqrt{2\\pi \\sigma^2}} e^{-\\frac{(x-\\mu_0)^2}{2\\sigma^2}} $$\n",
    "$$ f(x | \\mu_1, \\sigma^2) = \\frac{1}{\\sqrt{2\\pi \\sigma^2}} e^{-\\frac{(x-\\mu_1)^2}{2\\sigma^2}} $$\n",
    "\n",
    "The likelihood ratio is\n",
    "\n",
    "$$\n",
    "\\begin{align}\n",
    "LR(x) =& \\frac{f(x|\\mu_0, \\sigma^2)}{f(x|\\mu_1, \\sigma^2)} \\\\\n",
    "      =& \\frac{C exp[-\\frac{(x-\\mu_0)^2}{2\\sigma^2}]}\n",
    "      {C exp\\left[-\\frac{(x-\\mu_1)^2}{2\\sigma^2}\\right]} \\\\\n",
    "      =& exp\\left[\\frac{-(x-\\mu_0)^2 + (x-\\mu_1)^2}{2\\sigma^2}\\right] \\\\\n",
    "      =& exp\\left[\\frac{-(x^2 + \\mu_0^2 - 2\\mu_0x) + (x^2 + \\mu_1^2 - 2\\mu_1x)}{2\\sigma^2}\\right] \\\\\n",
    "      =& exp\\left[\\frac{-\\mu_0^2 + 2\\mu_0x + \\mu_1^2 - 2\\mu_1x}{2\\sigma^2}\\right] \\\\\n",
    "      =& exp\\left[\\frac{2(\\mu_0 - \\mu_1)x  + \\mu_1^2 - \\mu_0^2}{2\\sigma^2}\\right] \\\\\n",
    "      =& exp\\left[\\frac{2(\\mu_0 - \\mu_1)x - (\\mu_0^2 - \\mu_1^2)}{2\\sigma^2}\\right] \\\\\n",
    "      =& exp\\left[\\frac{2(\\mu_0 - \\mu_1)x + (\\mu_1 + \\mu_0)(\\mu_0 - \\mu_1)}{2\\sigma^2}\\right] \\\\\n",
    "      =& exp\\left[\\frac{(\\mu_0 - \\mu_1)(2x - (\\mu_0 + \\mu_1))}{2\\sigma^2}\\right] \\\\\n",
    "      =& exp\\left[\\frac{(\\mu_0 - \\mu_1)}{\\sigma^2}\\left(x - \\frac{(\\mu_0 + \\mu_1)}{2}\\right)\\right] \\\\\n",
    "      =& exp\\left[\\gamma(x - m)\\right] \\\\\n",
    "\\end{align}\n",
    "$$\n",
    "\n",
    "where\n",
    "\n",
    "- $\\gamma = \\frac{(\\mu_0 - \\mu_1)}{\\sigma^2}$ and\n",
    "- $m = \\frac{(\\mu_0 + \\mu_1)}{2}$"
   ]
  },
  {
   "cell_type": "code",
   "execution_count": 3,
   "metadata": {},
   "outputs": [
    {
     "data": {
      "image/png": "[encoded data removed]",
      "text/latex": [
       "$$\\frac{\\sqrt{2} e^{- \\frac{\\left(\\mu_{0} - x\\right)^{2}}{2 \\sigma^{2}}}}{2 \\sqrt{\\pi} \\sqrt{\\sigma^{2}}}$$"
      ],
      "text/plain": [
       "             2 \n",
       "    -(μ₀ - x)  \n",
       "    ───────────\n",
       "           2   \n",
       "        2⋅σ    \n",
       "√2⋅ℯ           \n",
       "───────────────\n",
       "          ____ \n",
       "         ╱  2  \n",
       "  2⋅√π⋅╲╱  σ   "
      ]
     },
     "metadata": {},
     "output_type": "display_data"
    },
    {
     "data": {
      "image/png": "[encoded data removed]",
      "text/latex": [
       "$$\\frac{e^{\\frac{\\left(\\mu_{1} - x\\right)^{2}}{2 \\sigma^{2}}}}{e^{\\frac{\\left(\\mu_{0} - x\\right)^{2}}{2 \\sigma^{2}}} + e^{\\frac{\\left(\\mu_{1} - x\\right)^{2}}{2 \\sigma^{2}}}}$$"
      ],
      "text/plain": [
       "                2      \n",
       "        (μ₁ - x)       \n",
       "        ─────────      \n",
       "              2        \n",
       "           2⋅σ         \n",
       "       ℯ               \n",
       "───────────────────────\n",
       "         2            2\n",
       " (μ₀ - x)     (μ₁ - x) \n",
       " ─────────    ─────────\n",
       "       2            2  \n",
       "    2⋅σ          2⋅σ   \n",
       "ℯ          + ℯ         "
      ]
     },
     "metadata": {},
     "output_type": "display_data"
    }
   ],
   "source": [
    "from sympy import simplify\n",
    "\n",
    "x, mu0, mu1, sigma = symbols('x mu0 mu1 sigma')\n",
    "\n",
    "pdf_normal_0 = (1/sqrt(2*pi*sigma**2))*exp(-((x-mu0)**2)/(2*sigma**2))\n",
    "pdf_normal_1 = (1/sqrt(2*pi*sigma**2))*exp(-((x-mu1)**2)/(2*sigma**2))\n",
    "\n",
    "display(simplify(pdf_normal_0))\n",
    "display(simplify(pdf_normal_0/(pdf_normal_0 + pdf_normal_1)))"
   ]
  },
  {
   "cell_type": "code",
   "execution_count": 4,
   "metadata": {},
   "outputs": [
    {
     "data": {
      "image/png": "[encoded data removed]",
      "text/latex": [
       "$$\\frac{1}{1 + e^{- x}}$$"
      ],
      "text/plain": [
       "   1   \n",
       "───────\n",
       "     -x\n",
       "1 + ℯ  "
      ]
     },
     "metadata": {},
     "output_type": "display_data"
    }
   ],
   "source": [
    "sigmoid = 1 / (1 + exp(-x))\n",
    "\n",
    "display(sigmoid)"
   ]
  },
  {
   "cell_type": "code",
   "execution_count": 5,
   "metadata": {},
   "outputs": [
    {
     "data": {
      "image/png": "[encoded data removed]",
      "text/latex": [
       "$$\\frac{\\sqrt{2} e^{- \\frac{\\left(\\mu_{0} - x\\right)^{2}}{2 \\sigma_{0}^{2}}}}{2 \\sqrt{\\pi} \\sqrt{\\sigma_{0}^{2}}}$$"
      ],
      "text/plain": [
       "             2 \n",
       "    -(μ₀ - x)  \n",
       "    ───────────\n",
       "           2   \n",
       "       2⋅σ₀    \n",
       "√2⋅ℯ           \n",
       "───────────────\n",
       "         _____ \n",
       "        ╱   2  \n",
       " 2⋅√π⋅╲╱  σ₀   "
      ]
     },
     "metadata": {},
     "output_type": "display_data"
    },
    {
     "data": {
      "image/png": "[encoded data removed]",
      "text/latex": [
       "$$\\frac{\\sqrt{\\sigma_{1}^{2}} e^{\\frac{\\left(\\mu_{1} - x\\right)^{2}}{2 \\sigma_{1}^{2}}}}{\\sqrt{\\sigma_{0}^{2}} e^{\\frac{\\left(\\mu_{0} - x\\right)^{2}}{2 \\sigma_{0}^{2}}} + \\sqrt{\\sigma_{1}^{2}} e^{\\frac{\\left(\\mu_{1} - x\\right)^{2}}{2 \\sigma_{1}^{2}}}}$$"
      ],
      "text/plain": [
       "                             2           \n",
       "                     (μ₁ - x)            \n",
       "                     ─────────           \n",
       "              _____        2             \n",
       "             ╱   2     2⋅σ₁              \n",
       "           ╲╱  σ₁  ⋅ℯ                    \n",
       "─────────────────────────────────────────\n",
       "                  2                     2\n",
       "          (μ₀ - x)              (μ₁ - x) \n",
       "          ─────────             ─────────\n",
       "   _____        2        _____        2  \n",
       "  ╱   2     2⋅σ₀        ╱   2     2⋅σ₁   \n",
       "╲╱  σ₀  ⋅ℯ          + ╲╱  σ₁  ⋅ℯ         "
      ]
     },
     "metadata": {},
     "output_type": "display_data"
    }
   ],
   "source": [
    "from sympy import simplify\n",
    "\n",
    "x, mu_0, sigma_0, mu_1, sigma_1 = symbols('x mu_0 sigma_0 mu_1 sigma_1')\n",
    "\n",
    "y_0 = (1/sqrt(2*pi*sigma_0**2))*exp(-((x-mu_0)**2)/(2*sigma_0**2))\n",
    "y_1 = (1/sqrt(2*pi*sigma_1**2))*exp(-((x-mu_1)**2)/(2*sigma_1**2))\n",
    "\n",
    "display(simplify(y_0))\n",
    "display(simplify(y_0/(y_0 + y_1)))"
   ]
  },
  {
   "cell_type": "code",
   "execution_count": null,
   "metadata": {},
   "outputs": [],
   "source": []
  },
  {
   "cell_type": "code",
   "execution_count": 6,
   "metadata": {},
   "outputs": [
    {
     "data": {
      "image/png": "[encoded data removed]",
      "text/plain": [
       "<Figure size 432x288 with 1 Axes>"
      ]
     },
     "metadata": {},
     "output_type": "display_data"
    }
   ],
   "source": [
    "pdf_normal_0 = lambdify((x, mu_0, sigma_0), y_0, \"numpy\")\n",
    "pdf_normal_1 = lambdify((x, mu_1, sigma_1), y_1, \"numpy\")\n",
    "\n",
    "\n",
    "a = linspace(-5,5,100)\n",
    "m0 = 0\n",
    "s0 = 1\n",
    "m1 = 2\n",
    "s1 = 1\n",
    "\n",
    "pyplot.plot(a, pdf_normal_0(a, m0, s0))\n",
    "pyplot.plot(a, pdf_normal_1(a, m1, s1))\n",
    "pyplot.plot(a, pdf_normal_0(a, m1, s1)/(pdf_normal_0(a, m0, s0) + pdf_normal_1(a, m1, s1)))\n",
    "pyplot.grid(True)"
   ]
  },
  {
   "cell_type": "markdown",
   "metadata": {},
   "source": [
    "# Expected brier score\n",
    "\n",
    "Let's visualise the error space of a logistic regression with only one parameter $w$\n",
    "\n",
    "$$  \\frac{1}{1 + exp(-xw)} $$"
   ]
  },
  {
   "cell_type": "code",
   "execution_count": 7,
   "metadata": {},
   "outputs": [
    {
     "name": "stdout",
     "output_type": "stream",
     "text": [
      "(1.1224489795918373, 0.027041012195361747)\n"
     ]
    },
    {
     "data": {
      "text/plain": [
       "Text(1.5,0.1,'w = 1.12, BS = 0.03')"
      ]
     },
     "execution_count": 7,
     "metadata": {},
     "output_type": "execute_result"
    },
    {
     "data": {
      "image/png": "[encoded data removed]",
      "text/plain": [
       "<Figure size 432x288 with 1 Axes>"
      ]
     },
     "metadata": {},
     "output_type": "display_data"
    }
   ],
   "source": [
    "from numpy import exp as e\n",
    "\n",
    "def brier_score(x1, x2):\n",
    "    return numpy.mean((x1 - x2)**2)\n",
    "\n",
    "w_list = linspace(-5, 5)\n",
    "errors = []\n",
    "for w in w_list:\n",
    "    errors.append(brier_score(1/(1 + e(-a*w)), \n",
    "                              pdf_normal_0(a, m1, s1)/(pdf_normal_0(a, m0, s0) + pdf_normal_1(a, m1, s1))))\n",
    "    \n",
    "pyplot.plot(w_list, errors)\n",
    "min_idx = numpy.argmin(errors)\n",
    "print((w_list[min_idx], errors[min_idx]))\n",
    "pyplot.annotate(\"w = {:.2f}, BS = {:.2f}\".format(w_list[min_idx], errors[min_idx]), (w_list[min_idx], errors[min_idx]),\n",
    "                (1.5, 0.1), arrowprops={'arrowstyle': '->'})"
   ]
  },
  {
   "cell_type": "code",
   "execution_count": null,
   "metadata": {},
   "outputs": [],
   "source": []
  },
  {
   "cell_type": "code",
   "execution_count": null,
   "metadata": {},
   "outputs": [],
   "source": []
  }
 ],
 "metadata": {
  "kernelspec": {
   "display_name": "RecyclingLabels",
   "language": "python",
   "name": "recyclinglabels"
  },
  "language_info": {
   "codemirror_mode": {
    "name": "ipython",
    "version": 3
   },
   "file_extension": ".py",
   "mimetype": "text/x-python",
   "name": "python",
   "nbconvert_exporter": "python",
   "pygments_lexer": "ipython3",
   "version": "3.6.6"
  }
 },
 "nbformat": 4,
 "nbformat_minor": 2
}
