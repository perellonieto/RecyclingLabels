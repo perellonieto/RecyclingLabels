{
 "cells": [
  {
   "cell_type": "code",
   "execution_count": 1,
   "metadata": {},
   "outputs": [],
   "source": [
    "%matplotlib inline\n",
    "import numpy\n",
    "from matplotlib import pyplot"
   ]
  },
  {
   "cell_type": "markdown",
   "metadata": {},
   "source": [
    "# Learning from Data of Variable Quality\n",
    "\n",
    "- Authors: Koby Crammer, Michael Kearns, Jennifer Wortman\n",
    "- This Jupyter Notebook made by Miquel Perelló Nieto"
   ]
  },
  {
   "cell_type": "markdown",
   "metadata": {},
   "source": [
    "## Estimating the Bias from Corrupted Coins\n",
    "\n",
    "We should know the epsilon lower and upper bounds of each bias, and these should be sorted from smaller (or equal) to bigger."
   ]
  },
  {
   "cell_type": "code",
   "execution_count": 2,
   "metadata": {},
   "outputs": [
    {
     "name": "stdout",
     "output_type": "stream",
     "text": [
      "[0.501 0.49  0.52  0.47  0.46  0.7   0.2   0.   ]\n"
     ]
    },
    {
     "data": {
      "text/plain": [
       "([array([6., 0., 0., 0., 0., 0., 0., 0., 0., 4.]),\n",
       "  array([24.,  0.,  0.,  0.,  0.,  0.,  0.,  0.,  0., 26.]),\n",
       "  array([37.,  0.,  0.,  0.,  0.,  0.,  0.,  0.,  0., 63.]),\n",
       "  array([264.,   0.,   0.,   0.,   0.,   0.,   0.,   0.,   0., 236.]),\n",
       "  array([825.,   0.,   0.,   0.,   0.,   0.,   0.,   0.,   0., 675.]),\n",
       "  array([ 607.,    0.,    0.,    0.,    0.,    0.,    0.,    0.,    0.,\n",
       "         1393.]),\n",
       "  array([2400.,    0.,    0.,    0.,    0.,    0.,    0.,    0.,    0.,\n",
       "          600.]),\n",
       "  array([10000.,     0.,     0.,     0.,     0.,     0.,     0.,     0.,\n",
       "             0.,     0.])],\n",
       " array([0. , 0.1, 0.2, 0.3, 0.4, 0.5, 0.6, 0.7, 0.8, 0.9, 1. ]),\n",
       " <a list of 8 Lists of Patches objects>)"
      ]
     },
     "execution_count": 2,
     "metadata": {},
     "output_type": "execute_result"
    },
    {
     "data": {
      "image/png": "[encoded data removed]",
      "text/plain": [
       "<Figure size 432x288 with 1 Axes>"
      ]
     },
     "metadata": {},
     "output_type": "display_data"
    }
   ],
   "source": [
    "from numpy.random import choice\n",
    "\n",
    "epsilon = numpy.array([0.01, 0.1, 0.4, 0.5])\n",
    "n_outcomes = numpy.array([50, 100, 500, 600])\n",
    "# Example from paper\n",
    "epsilon = numpy.array([0.001, 0.01, 0.02, 0.03, 0.04, 0.2, 0.3, 0.5])\n",
    "n_outcomes = numpy.array([10, 50, 100, 500, 1500, 2000, 3000, 10000])\n",
    "bias = numpy.array([0.5 + e*choice([-1,1]) for e in epsilon])\n",
    "print(bias)\n",
    "K = len(bias)\n",
    "samples = [numpy.random.binomial(1, bias[k], n_outcomes[k]) for k in range(K)]\n",
    "\n",
    "pyplot.hist(samples)"
   ]
  },
  {
   "cell_type": "code",
   "execution_count": 3,
   "metadata": {},
   "outputs": [
    {
     "name": "stdout",
     "output_type": "stream",
     "text": [
      "Real bias is\n",
      "[0.501 0.49  0.52  0.47  0.46  0.7   0.2   0.   ]\n",
      "The estimated bias is\n",
      "[0.4, 0.5, 0.58125, 0.4984848484848485, 0.4648148148148148, 0.5762019230769231, 0.4185754189944134, 0.17465034965034965]\n",
      "The expected bias is\n",
      "[0.501, 0.4918333333333333, 0.5094375, 0.479560606060606, 0.46597685185185184, 0.5784879807692308, 0.41990363128491626, 0.17520454545454547]\n"
     ]
    }
   ],
   "source": [
    "print(\"Real bias is\")\n",
    "print(bias)\n",
    "estimated_bias = [numpy.concatenate(samples[:(k+1)]).mean() for k in range(K)]\n",
    "print(\"The estimated bias is\")\n",
    "print(estimated_bias)\n",
    "expected_bias = [numpy.inner(bias[:(k+1)], n_outcomes[:(k+1)])/sum(n_outcomes[:(k+1)]) for k in range(K)]\n",
    "print(\"The expected bias is\")\n",
    "print(expected_bias)"
   ]
  },
  {
   "cell_type": "markdown",
   "metadata": {},
   "source": [
    "### Real deviation\n",
    "\n",
    "$$ | \\beta - \\hat\\beta_k | $$\n",
    "\n",
    "### Upper bound with triangle inequality and the authors' assumptions\n",
    "\n",
    "$$\n",
    "\\begin{align}\n",
    "| \\beta - \\hat\\beta_k | =& | \\beta - \\bar\\beta_k + \\bar\\beta_k - \\hat\\beta_k | \\\\\n",
    " \\le& \\sum_{i=1}^k \\frac{n_i}{n_{i,k}}\\epsilon_i + | \\bar\\beta_k - \\hat\\beta_k |\n",
    "\\end{align}\n",
    "$$"
   ]
  },
  {
   "cell_type": "code",
   "execution_count": 4,
   "metadata": {},
   "outputs": [
    {
     "name": "stdout",
     "output_type": "stream",
     "text": [
      "Real deviation\n",
      "[0.10099999999999998, 0.010000000000000009, 0.06125000000000003, 0.028484848484848502, 0.004814814814814772, 0.12379807692307687, 0.2185754189944134, 0.17465034965034965]\n",
      "Upper bound of the deviation\n",
      "[0.10099999999999998, 0.009166666666666712, 0.08114583333333339, 0.040757575757575784, 0.04572264309764311, 0.07462444153069156, 0.16982044228273285, 0.2947447498187722]\n"
     ]
    },
    {
     "data": {
      "text/plain": [
       "<matplotlib.legend.Legend at 0x7f152ced9400>"
      ]
     },
     "execution_count": 4,
     "metadata": {},
     "output_type": "execute_result"
    },
    {
     "data": {
      "image/png": "[encoded data removed]",
      "text/plain": [
       "<Figure size 432x288 with 1 Axes>"
      ]
     },
     "metadata": {},
     "output_type": "display_data"
    }
   ],
   "source": [
    "real_deviation = [abs(bias[k] - estimated_bias[k]) for k in range(K)]\n",
    "print('Real deviation')\n",
    "print(real_deviation)\n",
    "\n",
    "upper_bound = []\n",
    "for k in range(K):\n",
    "    b = 0\n",
    "    for i in range(k):\n",
    "        b += (n_outcomes[i]/sum(n_outcomes[:(i+1)]))*epsilon[i]\n",
    "    b += abs(expected_bias[k] - estimated_bias[k])\n",
    "    upper_bound.append(b)\n",
    "    \n",
    "print('Upper bound of the deviation')\n",
    "print(upper_bound)\n",
    "# FIXME Shouldn't the upper bound be always bigger than its corresponding real_deviation?\n",
    "\n",
    "pyplot.plot(real_deviation, label='Real deviation')\n",
    "pyplot.plot(upper_bound, label='Upper bound')\n",
    "pyplot.ylabel('Error')\n",
    "pyplot.xlabel('Number of piles k')\n",
    "pyplot.legend()"
   ]
  },
  {
   "cell_type": "markdown",
   "metadata": {},
   "source": [
    "# <span style=\"color:red\">FIXME The upper bound should be always bigger, but it is not the case here </span>\n",
    "\n",
    "### Bounding the second term with Hoeffding inequality\n",
    "\n",
    "With high probability and an appropiate choice of $\\delta$\n",
    "\n",
    "$$\n",
    "| \\beta - \\hat\\beta_k | \\le \\sum_{i=1}^k \\frac{n_i}{n_{i,k}}\\epsilon_i + \\sqrt{\\frac{\\log(2K/\\delta)}{2n_{1,k}}}\n",
    "$$"
   ]
  },
  {
   "cell_type": "code",
   "execution_count": 5,
   "metadata": {},
   "outputs": [
    {
     "name": "stdout",
     "output_type": "stream",
     "text": [
      "Previous upperbound\n",
      "[0.10099999999999998, 0.009166666666666712, 0.08114583333333339, 0.040757575757575784, 0.04572264309764311, 0.07462444153069156, 0.16982044228273285, 0.2947447498187722]\n",
      "Upperbound with delta probability\n",
      "[0.6957134468019832, 0.28502382530963133, 0.18326169503382914, 0.10746973879456012, 0.09189791027887795, 0.10644854192600123, 0.19449226222419047, 0.3109852348807587]\n"
     ]
    },
    {
     "data": {
      "text/plain": [
       "<matplotlib.legend.Legend at 0x7f152ce5f5f8>"
      ]
     },
     "execution_count": 5,
     "metadata": {},
     "output_type": "execute_result"
    },
    {
     "data": {
      "image/png": "[encoded data removed]",
      "text/plain": [
       "<Figure size 432x288 with 1 Axes>"
      ]
     },
     "metadata": {},
     "output_type": "display_data"
    }
   ],
   "source": [
    "from numpy import sqrt, log\n",
    "\n",
    "delta = 0.001\n",
    "print('Previous upperbound')\n",
    "print(upper_bound)\n",
    "estimated_deviation = []\n",
    "for k in range(K):\n",
    "    b = 0\n",
    "    for i in range(k):\n",
    "        b += (n_outcomes[i]/sum(n_outcomes[:(i+1)]))*epsilon[i]\n",
    "    b += sqrt(log(2.0*K/delta)/(2*sum(n_outcomes[:(k+1)])))\n",
    "    estimated_deviation.append(b)\n",
    "    \n",
    "print('Upperbound with delta probability')\n",
    "print(estimated_deviation)\n",
    "\n",
    "pyplot.plot(real_deviation, label='Real deviation')\n",
    "pyplot.plot(upper_bound, label='Upper bound')\n",
    "pyplot.plot(estimated_deviation, label='Estimated deviation')\n",
    "pyplot.ylabel('Error')\n",
    "pyplot.xlabel('Number of piles k')\n",
    "pyplot.legend()"
   ]
  },
  {
   "cell_type": "markdown",
   "metadata": {},
   "source": [
    "# <span style=\"color:red\">FIXME the papers' example do not show the delta value</span>\n",
    "\n",
    "### Optimal number of piles\n",
    "\n",
    "$$\n",
    "k^* = \\underset{k \\in \\{1, \\dots, K\\}}{\\operatorname{argmin}} \\left\\{ \\sum_{i=1}^k \\frac{n_i}{n_{i,k}}\\epsilon_i + \\sqrt{\\frac{\\log(2K/\\delta)}{2n_{1,k}}} \\right\\}\n",
    "$$"
   ]
  },
  {
   "cell_type": "code",
   "execution_count": 6,
   "metadata": {},
   "outputs": [
    {
     "name": "stdout",
     "output_type": "stream",
     "text": [
      "Optimum number of piles K* = 5\n"
     ]
    }
   ],
   "source": [
    "k_star = numpy.argmin(estimated_deviation)\n",
    "print('Optimum number of piles K* = {}'.format(k_star+1))"
   ]
  }
 ],
 "metadata": {
  "kernelspec": {
   "display_name": "RecyclingLabels",
   "language": "python",
   "name": "recyclinglabels"
  },
  "language_info": {
   "codemirror_mode": {
    "name": "ipython",
    "version": 3
   },
   "file_extension": ".py",
   "mimetype": "text/x-python",
   "name": "python",
   "nbconvert_exporter": "python",
   "pygments_lexer": "ipython3",
   "version": "3.6.6"
  }
 },
 "nbformat": 4,
 "nbformat_minor": 2
}
